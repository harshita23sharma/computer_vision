{
  "nbformat": 4,
  "nbformat_minor": 0,
  "metadata": {
    "accelerator": "GPU",
    "colab": {
      "name": "custom_resnet__less_overfitted.ipynb",
      "provenance": [],
      "collapsed_sections": [],
      "authorship_tag": "ABX9TyOI1N9xOPcd84eN+A9a9QPL",
      "include_colab_link": true
    },
    "kernelspec": {
      "display_name": "Python 3",
      "name": "python3"
    },
    "language_info": {
      "name": "python"
    },
    "widgets": {
      "application/vnd.jupyter.widget-state+json": {
        "ac4d0d7ec90d42d9917c19793e09fe98": {
          "model_module": "@jupyter-widgets/controls",
          "model_name": "HBoxModel",
          "state": {
            "_view_name": "HBoxView",
            "_dom_classes": [],
            "_model_name": "HBoxModel",
            "_view_module": "@jupyter-widgets/controls",
            "_model_module_version": "1.5.0",
            "_view_count": null,
            "_view_module_version": "1.5.0",
            "box_style": "",
            "layout": "IPY_MODEL_4a25d3bf9ee24c90a8604466505bd321",
            "_model_module": "@jupyter-widgets/controls",
            "children": [
              "IPY_MODEL_01a5ff36462b46e9ac0239e2ab97fe5d",
              "IPY_MODEL_3ead9ff0d4174b42b25f32c00c448fbb"
            ]
          }
        },
        "4a25d3bf9ee24c90a8604466505bd321": {
          "model_module": "@jupyter-widgets/base",
          "model_name": "LayoutModel",
          "state": {
            "_view_name": "LayoutView",
            "grid_template_rows": null,
            "right": null,
            "justify_content": null,
            "_view_module": "@jupyter-widgets/base",
            "overflow": null,
            "_model_module_version": "1.2.0",
            "_view_count": null,
            "flex_flow": null,
            "width": null,
            "min_width": null,
            "border": null,
            "align_items": null,
            "bottom": null,
            "_model_module": "@jupyter-widgets/base",
            "top": null,
            "grid_column": null,
            "overflow_y": null,
            "overflow_x": null,
            "grid_auto_flow": null,
            "grid_area": null,
            "grid_template_columns": null,
            "flex": null,
            "_model_name": "LayoutModel",
            "justify_items": null,
            "grid_row": null,
            "max_height": null,
            "align_content": null,
            "visibility": null,
            "align_self": null,
            "height": null,
            "min_height": null,
            "padding": null,
            "grid_auto_rows": null,
            "grid_gap": null,
            "max_width": null,
            "order": null,
            "_view_module_version": "1.2.0",
            "grid_template_areas": null,
            "object_position": null,
            "object_fit": null,
            "grid_auto_columns": null,
            "margin": null,
            "display": null,
            "left": null
          }
        },
        "01a5ff36462b46e9ac0239e2ab97fe5d": {
          "model_module": "@jupyter-widgets/controls",
          "model_name": "FloatProgressModel",
          "state": {
            "_view_name": "ProgressView",
            "style": "IPY_MODEL_4ad67dfc7c2d42dbbc1194866e32a447",
            "_dom_classes": [],
            "description": "100%",
            "_model_name": "FloatProgressModel",
            "bar_style": "success",
            "max": 100,
            "_view_module": "@jupyter-widgets/controls",
            "_model_module_version": "1.5.0",
            "value": 100,
            "_view_count": null,
            "_view_module_version": "1.5.0",
            "orientation": "horizontal",
            "min": 0,
            "description_tooltip": null,
            "_model_module": "@jupyter-widgets/controls",
            "layout": "IPY_MODEL_fa272598e8a64c36a0eb32edecf8535e"
          }
        },
        "3ead9ff0d4174b42b25f32c00c448fbb": {
          "model_module": "@jupyter-widgets/controls",
          "model_name": "HTMLModel",
          "state": {
            "_view_name": "HTMLView",
            "style": "IPY_MODEL_ff655fed428a4eaebf243c40b929c8d0",
            "_dom_classes": [],
            "description": "",
            "_model_name": "HTMLModel",
            "placeholder": "​",
            "_view_module": "@jupyter-widgets/controls",
            "_model_module_version": "1.5.0",
            "value": " 100/100 [03:57&lt;00:00,  2.38s/it]",
            "_view_count": null,
            "_view_module_version": "1.5.0",
            "description_tooltip": null,
            "_model_module": "@jupyter-widgets/controls",
            "layout": "IPY_MODEL_0b43395330e5405296506022735e54ec"
          }
        },
        "4ad67dfc7c2d42dbbc1194866e32a447": {
          "model_module": "@jupyter-widgets/controls",
          "model_name": "ProgressStyleModel",
          "state": {
            "_view_name": "StyleView",
            "_model_name": "ProgressStyleModel",
            "description_width": "initial",
            "_view_module": "@jupyter-widgets/base",
            "_model_module_version": "1.5.0",
            "_view_count": null,
            "_view_module_version": "1.2.0",
            "bar_color": null,
            "_model_module": "@jupyter-widgets/controls"
          }
        },
        "fa272598e8a64c36a0eb32edecf8535e": {
          "model_module": "@jupyter-widgets/base",
          "model_name": "LayoutModel",
          "state": {
            "_view_name": "LayoutView",
            "grid_template_rows": null,
            "right": null,
            "justify_content": null,
            "_view_module": "@jupyter-widgets/base",
            "overflow": null,
            "_model_module_version": "1.2.0",
            "_view_count": null,
            "flex_flow": null,
            "width": null,
            "min_width": null,
            "border": null,
            "align_items": null,
            "bottom": null,
            "_model_module": "@jupyter-widgets/base",
            "top": null,
            "grid_column": null,
            "overflow_y": null,
            "overflow_x": null,
            "grid_auto_flow": null,
            "grid_area": null,
            "grid_template_columns": null,
            "flex": null,
            "_model_name": "LayoutModel",
            "justify_items": null,
            "grid_row": null,
            "max_height": null,
            "align_content": null,
            "visibility": null,
            "align_self": null,
            "height": null,
            "min_height": null,
            "padding": null,
            "grid_auto_rows": null,
            "grid_gap": null,
            "max_width": null,
            "order": null,
            "_view_module_version": "1.2.0",
            "grid_template_areas": null,
            "object_position": null,
            "object_fit": null,
            "grid_auto_columns": null,
            "margin": null,
            "display": null,
            "left": null
          }
        },
        "ff655fed428a4eaebf243c40b929c8d0": {
          "model_module": "@jupyter-widgets/controls",
          "model_name": "DescriptionStyleModel",
          "state": {
            "_view_name": "StyleView",
            "_model_name": "DescriptionStyleModel",
            "description_width": "",
            "_view_module": "@jupyter-widgets/base",
            "_model_module_version": "1.5.0",
            "_view_count": null,
            "_view_module_version": "1.2.0",
            "_model_module": "@jupyter-widgets/controls"
          }
        },
        "0b43395330e5405296506022735e54ec": {
          "model_module": "@jupyter-widgets/base",
          "model_name": "LayoutModel",
          "state": {
            "_view_name": "LayoutView",
            "grid_template_rows": null,
            "right": null,
            "justify_content": null,
            "_view_module": "@jupyter-widgets/base",
            "overflow": null,
            "_model_module_version": "1.2.0",
            "_view_count": null,
            "flex_flow": null,
            "width": null,
            "min_width": null,
            "border": null,
            "align_items": null,
            "bottom": null,
            "_model_module": "@jupyter-widgets/base",
            "top": null,
            "grid_column": null,
            "overflow_y": null,
            "overflow_x": null,
            "grid_auto_flow": null,
            "grid_area": null,
            "grid_template_columns": null,
            "flex": null,
            "_model_name": "LayoutModel",
            "justify_items": null,
            "grid_row": null,
            "max_height": null,
            "align_content": null,
            "visibility": null,
            "align_self": null,
            "height": null,
            "min_height": null,
            "padding": null,
            "grid_auto_rows": null,
            "grid_gap": null,
            "max_width": null,
            "order": null,
            "_view_module_version": "1.2.0",
            "grid_template_areas": null,
            "object_position": null,
            "object_fit": null,
            "grid_auto_columns": null,
            "margin": null,
            "display": null,
            "left": null
          }
        }
      }
    }
  },
  "cells": [
    {
      "cell_type": "markdown",
      "metadata": {
        "id": "view-in-github",
        "colab_type": "text"
      },
      "source": [
        "<a href=\"https://colab.research.google.com/github/harshita23sharma/computer_vision/blob/main/custom_resnet__less_overfitted.ipynb\" target=\"_parent\"><img src=\"https://colab.research.google.com/assets/colab-badge.svg\" alt=\"Open In Colab\"/></a>"
      ]
    },
    {
      "cell_type": "markdown",
      "metadata": {
        "id": "JQKQca4Ggkso"
      },
      "source": [
        ""
      ]
    },
    {
      "cell_type": "code",
      "metadata": {
        "colab": {
          "base_uri": "https://localhost:8080/"
        },
        "id": "xFljot71CSQc",
        "outputId": "c6f66505-906f-4654-e7d5-ec0bdbe77614"
      },
      "source": [
        "from google.colab import drive\n",
        "drive.mount('/content/drive')"
      ],
      "execution_count": 1,
      "outputs": [
        {
          "output_type": "stream",
          "text": [
            "Drive already mounted at /content/drive; to attempt to forcibly remount, call drive.mount(\"/content/drive\", force_remount=True).\n"
          ],
          "name": "stdout"
        }
      ]
    },
    {
      "cell_type": "code",
      "metadata": {
        "id": "lepZY0XwCd4R"
      },
      "source": [
        "!cd /content/drive/"
      ],
      "execution_count": 2,
      "outputs": []
    },
    {
      "cell_type": "code",
      "metadata": {
        "id": "1uFVyU-DCwfO"
      },
      "source": [
        "import sys\n",
        "sys.path.append('/content/drive/')"
      ],
      "execution_count": 3,
      "outputs": []
    },
    {
      "cell_type": "code",
      "metadata": {
        "colab": {
          "base_uri": "https://localhost:8080/"
        },
        "id": "AoXZpxSnCjL5",
        "outputId": "5e9f408c-fa53-43d0-eba0-9f8b200d60ab"
      },
      "source": [
        "!pwd"
      ],
      "execution_count": 4,
      "outputs": [
        {
          "output_type": "stream",
          "text": [
            "/content\n"
          ],
          "name": "stdout"
        }
      ]
    },
    {
      "cell_type": "code",
      "metadata": {
        "colab": {
          "base_uri": "https://localhost:8080/"
        },
        "id": "JXN2jN0tU9qM",
        "outputId": "79c344da-fc0b-4421-e6be-565a2f7f3c6c"
      },
      "source": [
        "%rm -rf 'CIFAR_10'\n",
        "!git clone https://github.com/amanjain487/CIFAR_10"
      ],
      "execution_count": 5,
      "outputs": [
        {
          "output_type": "stream",
          "text": [
            "Cloning into 'CIFAR_10'...\n",
            "remote: Enumerating objects: 267, done.\u001b[K\n",
            "remote: Counting objects: 100% (267/267), done.\u001b[K\n",
            "remote: Compressing objects: 100% (260/260), done.\u001b[K\n",
            "remote: Total 267 (delta 130), reused 5 (delta 1), pack-reused 0\u001b[K\n",
            "Receiving objects: 100% (267/267), 63.08 KiB | 2.74 MiB/s, done.\n",
            "Resolving deltas: 100% (130/130), done.\n"
          ],
          "name": "stdout"
        }
      ]
    },
    {
      "cell_type": "code",
      "metadata": {
        "colab": {
          "base_uri": "https://localhost:8080/"
        },
        "id": "z8uOPgHi8hi9",
        "outputId": "5d9397dd-f4c8-446a-b65f-587bdefeecf2"
      },
      "source": [
        "import sys\n",
        "sys.path.append('/CIFAR_10/')\n",
        "# from CIFAR_10 import utils\n",
        "# from CIFAR_10 import main\n",
        "# from CIFAR_10.GradCAM.visualize import VisualizeCam\n",
        "\n",
        "!pip install torchsummary\n",
        "from torchsummary import summary\n",
        "\n",
        "import torch"
      ],
      "execution_count": 6,
      "outputs": [
        {
          "output_type": "stream",
          "text": [
            "Requirement already satisfied: torchsummary in /usr/local/lib/python3.7/dist-packages (1.5.1)\n"
          ],
          "name": "stdout"
        }
      ]
    },
    {
      "cell_type": "code",
      "metadata": {
        "colab": {
          "base_uri": "https://localhost:8080/"
        },
        "id": "zsI3nb9t56Bi",
        "outputId": "36284592-1dd7-4f62-c0c1-5d754b98eee7"
      },
      "source": [
        "!pip install git+https://github.com/albumentations-team/albumentations.git"
      ],
      "execution_count": 7,
      "outputs": [
        {
          "output_type": "stream",
          "text": [
            "Collecting git+https://github.com/albumentations-team/albumentations.git\n",
            "  Cloning https://github.com/albumentations-team/albumentations.git to /tmp/pip-req-build-tw_4nyte\n",
            "  Running command git clone -q https://github.com/albumentations-team/albumentations.git /tmp/pip-req-build-tw_4nyte\n",
            "Requirement already satisfied (use --upgrade to upgrade): albumentations==1.0.2 from git+https://github.com/albumentations-team/albumentations.git in /usr/local/lib/python3.7/dist-packages\n",
            "Requirement already satisfied: numpy>=1.11.1 in /usr/local/lib/python3.7/dist-packages (from albumentations==1.0.2) (1.19.5)\n",
            "Requirement already satisfied: scipy in /usr/local/lib/python3.7/dist-packages (from albumentations==1.0.2) (1.4.1)\n",
            "Requirement already satisfied: scikit-image>=0.16.1 in /usr/local/lib/python3.7/dist-packages (from albumentations==1.0.2) (0.16.2)\n",
            "Requirement already satisfied: PyYAML in /usr/local/lib/python3.7/dist-packages (from albumentations==1.0.2) (3.13)\n",
            "Requirement already satisfied: opencv-python>=4.1.1 in /usr/local/lib/python3.7/dist-packages (from albumentations==1.0.2) (4.1.2.30)\n",
            "Requirement already satisfied: pillow>=4.3.0 in /usr/local/lib/python3.7/dist-packages (from scikit-image>=0.16.1->albumentations==1.0.2) (7.1.2)\n",
            "Requirement already satisfied: matplotlib!=3.0.0,>=2.0.0 in /usr/local/lib/python3.7/dist-packages (from scikit-image>=0.16.1->albumentations==1.0.2) (3.1.3)\n",
            "Requirement already satisfied: networkx>=2.0 in /usr/local/lib/python3.7/dist-packages (from scikit-image>=0.16.1->albumentations==1.0.2) (2.5.1)\n",
            "Requirement already satisfied: imageio>=2.3.0 in /usr/local/lib/python3.7/dist-packages (from scikit-image>=0.16.1->albumentations==1.0.2) (2.4.1)\n",
            "Requirement already satisfied: PyWavelets>=0.4.0 in /usr/local/lib/python3.7/dist-packages (from scikit-image>=0.16.1->albumentations==1.0.2) (1.1.1)\n",
            "Requirement already satisfied: pyparsing!=2.0.4,!=2.1.2,!=2.1.6,>=2.0.1 in /usr/local/lib/python3.7/dist-packages (from matplotlib!=3.0.0,>=2.0.0->scikit-image>=0.16.1->albumentations==1.0.2) (2.4.7)\n",
            "Requirement already satisfied: python-dateutil>=2.1 in /usr/local/lib/python3.7/dist-packages (from matplotlib!=3.0.0,>=2.0.0->scikit-image>=0.16.1->albumentations==1.0.2) (2.8.1)\n",
            "Requirement already satisfied: cycler>=0.10 in /usr/local/lib/python3.7/dist-packages (from matplotlib!=3.0.0,>=2.0.0->scikit-image>=0.16.1->albumentations==1.0.2) (0.10.0)\n",
            "Requirement already satisfied: kiwisolver>=1.0.1 in /usr/local/lib/python3.7/dist-packages (from matplotlib!=3.0.0,>=2.0.0->scikit-image>=0.16.1->albumentations==1.0.2) (1.3.1)\n",
            "Requirement already satisfied: decorator<5,>=4.3 in /usr/local/lib/python3.7/dist-packages (from networkx>=2.0->scikit-image>=0.16.1->albumentations==1.0.2) (4.4.2)\n",
            "Requirement already satisfied: six>=1.5 in /usr/local/lib/python3.7/dist-packages (from python-dateutil>=2.1->matplotlib!=3.0.0,>=2.0.0->scikit-image>=0.16.1->albumentations==1.0.2) (1.15.0)\n",
            "Building wheels for collected packages: albumentations\n",
            "  Building wheel for albumentations (setup.py) ... \u001b[?25l\u001b[?25hdone\n",
            "  Created wheel for albumentations: filename=albumentations-1.0.2-cp37-none-any.whl size=98523 sha256=eca56cfd9782c0dcf83b05341b0741648f0287f83df6b6ee3c10383cfab609e6\n",
            "  Stored in directory: /tmp/pip-ephem-wheel-cache-duzp448l/wheels/e2/85/3e/2a40fac5cc1f43ced656603bb2fca1327b30ec7de1b1b66517\n",
            "Successfully built albumentations\n"
          ],
          "name": "stdout"
        }
      ]
    },
    {
      "cell_type": "code",
      "metadata": {
        "id": "rFMa5R4k8PDL"
      },
      "source": [
        "import torch\n",
        "import torch.nn as nn\n",
        "import torch.optim as optim\n",
        "import torch.nn.functional as F\n",
        "import torch.backends.cudnn as cudnn\n",
        "\n",
        "import torchvision\n",
        "import torchvision.transforms as transforms\n",
        "# from CIFAR_10.models.reimport torch\n",
        "import torch.nn as nn\n",
        "import torch.nn.functional as F\n",
        "\n",
        "\n",
        "class BasicBlock(nn.Module):\n",
        "    expansion = 1\n",
        "\n",
        "    def __init__(self, in_planes, planes, stride):\n",
        "        super(BasicBlock, self).__init__()\n",
        "        self.conv1 = nn.Conv2d(\n",
        "            in_planes, planes, kernel_size=3, stride=stride, padding=1, bias=False)\n",
        "        self.bn1 = nn.BatchNorm2d(planes)\n",
        "\n",
        "        self.maxpool1 = nn.MaxPool2d(2,2)\n",
        "        self.conv2 = nn.Conv2d(planes, planes, kernel_size=3,\n",
        "                               stride=1, padding=1, bias=False)\n",
        "        self.bn2 = nn.BatchNorm2d(planes)\n",
        "\n",
        "\n",
        "        self.shortcut = nn.Sequential()\n",
        "        if stride != 1 or in_planes != self.expansion*planes:\n",
        "            self.shortcut = nn.Sequential(\n",
        "                self.conv2,\n",
        "                self.bn2,\n",
        "                nn.ReLU()\n",
        "                \n",
        "            )\n",
        "\n",
        "    def forward(self, x):\n",
        "        out1 = F.relu(self.bn1(self.maxpool1(self.conv1(x))))\n",
        "        out = F.relu(self.bn2(self.conv2(out1)))\n",
        "        out = self.shortcut(out)\n",
        "        out += out1\n",
        "        out = F.relu(out)\n",
        "        return out\n",
        "\n",
        "class BasicBlock2(nn.Module):\n",
        "    expansion = 1\n",
        "\n",
        "    def __init__(self, in_planes, planes, stride=1):\n",
        "        super(BasicBlock2, self).__init__()\n",
        "        self.conv1 = nn.Conv2d(\n",
        "            in_planes, planes, kernel_size=3, stride=stride, padding=1, bias=False)\n",
        "        self.bn1 = nn.BatchNorm2d(planes, 1)\n",
        "        self.max_pool = nn.MaxPool2d(2,2)\n",
        "\n",
        "    def forward(self, x):\n",
        "        out = F.relu(self.bn1(self.max_pool(self.conv1(x))))\n",
        "        return out\n",
        "\n",
        "\n",
        "\n",
        "class ResNetCustom(nn.Module):\n",
        "    def __init__(self, block, block2, num_blocks, num_classes=10):\n",
        "        super(ResNetCustom, self).__init__()\n",
        "\n",
        "        self.in_planes = 64\n",
        "\n",
        "        self.conv1 = nn.Conv2d(3, 64, kernel_size=3, stride=1, padding=1, bias=False)\n",
        "        self.bn1 = nn.BatchNorm2d(64)\n",
        "\n",
        "        # self._prep_layer = F.relu(self.bn1(self.conv1(x)))\n",
        "\n",
        "        self.layer1 = self._make_layer(block, 128, num_blocks[0], stride=1)\n",
        "\n",
        "        self.layer2 = self._make_layer2(block2, 256, num_blocks[1], stride=1)\n",
        "\n",
        "        self.conv2 = nn.Conv2d(128, 256, kernel_size=3, stride=3, bias=False)\n",
        "        self.max_pool = nn.MaxPool2d(4,2)\n",
        "        self.bn2 = nn.BatchNorm2d(256)\n",
        "\n",
        "        self.layer3 = self._make_layer(block, 512, num_blocks[2], stride=1)\n",
        "\n",
        "        self.max_pool2 = nn.MaxPool2d(4)\n",
        "        self.softmax = torch.nn.Softmax(dim=1)\n",
        "        self.linear = nn.Linear(512*block.expansion, num_classes)\n",
        "\n",
        "\n",
        "    def _make_layer(self, block, planes, num_blocks, stride):\n",
        "        strides = [stride] + [1]*(num_blocks-1)\n",
        "        layers = []\n",
        "        for stride in strides:\n",
        "            layers.append(block(self.in_planes, planes, stride))\n",
        "            self.in_planes = planes * block.expansion\n",
        "        return nn.Sequential(*layers)\n",
        "    \n",
        "    def _make_layer2(self, block, planes, num_blocks, stride):\n",
        "        strides = [stride] + [1]*(num_blocks-1)\n",
        "        layers = []\n",
        "        for stride in strides:\n",
        "            layers.append(block(self.in_planes, planes, stride))\n",
        "            self.in_planes = planes * block.expansion\n",
        "        return nn.Sequential(*layers)\n",
        "\n",
        "    def forward(self, x):\n",
        "        x = F.relu(self.bn1(self.conv1(x)))\n",
        "        r1 = self.layer1(x)\n",
        "        out = self.layer2(r1)\n",
        "        r2 = self.layer3(out)\n",
        "        out = self.max_pool2(r2)\n",
        "        out = out.view(out.size(0), -1)\n",
        "        out = self.linear(out)\n",
        "        out = self.softmax(out)\n",
        "        return out\n",
        "\n",
        "\n",
        "def CustomResNet():\n",
        "    return ResNetCustom(BasicBlock,BasicBlock2, [1, 1, 1],)\n",
        "\n",
        "\n",
        "# def test():\n",
        "#     net = CustomResNet()\n",
        "#     # print(summary(net, input_size=(3, 32, 32)))\n",
        "#     y = net(torch.randn(1, 3, 32, 32))\n",
        "#     print(y.size())\n",
        "\n",
        "\n",
        "\n",
        "# test()"
      ],
      "execution_count": 8,
      "outputs": []
    },
    {
      "cell_type": "code",
      "metadata": {
        "id": "aVvXSgbI-hFF"
      },
      "source": [
        "# import os\n",
        "import argparse\n",
        "\n",
        "\n",
        "# Training\n",
        "def train(epoch, net, criterion, optimizer, device, trainloader, train_losses, train_acc):\n",
        "    print('\\nEpoch: %d' % epoch)\n",
        "    net.train()\n",
        "    train_loss = 0\n",
        "    correct = 0\n",
        "    total = 0\n",
        "    for batch_idx, (inputs, targets) in enumerate(trainloader):\n",
        "        inputs, targets = inputs.to(device), targets.to(device)\n",
        "        optimizer.zero_grad()\n",
        "        outputs = net(inputs)\n",
        "        loss = criterion(outputs, targets)\n",
        "        loss.backward()\n",
        "        optimizer.step()\n",
        "\n",
        "        train_loss += loss.item()\n",
        "        _, predicted = outputs.max(1)\n",
        "        total += targets.size(0)\n",
        "        correct += predicted.eq(targets).sum().item()\n",
        "    print('Train Loss: %.3f | Train Acc: %.3f%% (%d/%d)' % (train_loss/(batch_idx+1), 100.*correct/total, correct, total))\n",
        "    train_losses.append(train_loss/(batch_idx+1))\n",
        "    train_acc.append(100.*correct/total)\n",
        "    return train_losses, train_acc\n",
        "\n",
        "\n",
        "def test(epoch, net, criterion, device, testloader, best_acc, test_losses, test_acc):\n",
        "    net.eval()\n",
        "    test_loss = 0\n",
        "    correct = 0\n",
        "    total = 0\n",
        "    with torch.no_grad():\n",
        "        for batch_idx, (inputs, targets) in enumerate(testloader):\n",
        "            inputs, targets = inputs.to(device), targets.to(device)\n",
        "            outputs = net(inputs)\n",
        "            loss = criterion(outputs, targets)\n",
        "\n",
        "            test_loss += loss.item()\n",
        "            _, predicted = outputs.max(1)\n",
        "            total += targets.size(0)\n",
        "            correct += predicted.eq(targets).sum().item()\n",
        "    print('Test Loss: %.3f | Test Acc: %.3f%% (%d/%d)' % (test_loss/(batch_idx+1), 100.*correct/total, correct, total))\n",
        "    \n",
        "    test_losses.append(test_loss/(batch_idx+1))\n",
        "    test_acc.append(100.*correct/total)\n",
        "    \n",
        "    # Save checkpoint.\n",
        "    acc = 100.*correct/total\n",
        "    if acc > best_acc:\n",
        "        best_acc = acc\n",
        "    return best_acc, test_losses, test_acc\n",
        "    \n",
        "\n",
        "\n",
        "def dataloaders(trainset, testset):\n",
        "    trainloader = torch.utils.data.DataLoader(\n",
        "    trainset, batch_size=256, shuffle=True, num_workers=2)\n",
        "\n",
        "    testloader = torch.utils.data.DataLoader(\n",
        "    testset, batch_size=100, shuffle=False, num_workers=2)\n",
        "    \n",
        "    return trainloader, testloader\n",
        "\n",
        "\n",
        "def start_training(no_of_epoch, net, criterion, optimizer, device, trainloader, testloader, best_acc, scheduler):\n",
        "    train_loss = []\n",
        "    train_acc = []\n",
        "    test_loss = []\n",
        "    test_acc = []\n",
        "    \n",
        "    for epoch in range(no_of_epoch):\n",
        "        train_loss, train_acc = train(epoch+1, net, criterion, optimizer, device, trainloader, train_loss, train_acc)\n",
        "        best_acc, test_loss, test_acc = test(epoch+1, net, criterion, device, testloader, best_acc, test_loss, test_acc)\n",
        "        scheduler.step(test_loss[-1])\n",
        "    print(\"Best Acc is : \", best_acc)\n",
        "    return train_loss, train_acc, test_loss, test_acc\n",
        "\n",
        "        \n"
      ],
      "execution_count": 9,
      "outputs": []
    },
    {
      "cell_type": "code",
      "metadata": {
        "colab": {
          "base_uri": "https://localhost:8080/"
        },
        "id": "xNrdITYNLmoh",
        "outputId": "70ee0e38-f80b-482f-bd57-ddcc66b93993"
      },
      "source": [
        "!pip install torch-lr-finder\n"
      ],
      "execution_count": 10,
      "outputs": [
        {
          "output_type": "stream",
          "text": [
            "Requirement already satisfied: torch-lr-finder in /usr/local/lib/python3.7/dist-packages (0.2.1)\n",
            "Requirement already satisfied: packaging in /usr/local/lib/python3.7/dist-packages (from torch-lr-finder) (20.9)\n",
            "Requirement already satisfied: tqdm in /usr/local/lib/python3.7/dist-packages (from torch-lr-finder) (4.41.1)\n",
            "Requirement already satisfied: torch>=0.4.1 in /usr/local/lib/python3.7/dist-packages (from torch-lr-finder) (1.9.0+cu102)\n",
            "Requirement already satisfied: matplotlib in /usr/local/lib/python3.7/dist-packages (from torch-lr-finder) (3.1.3)\n",
            "Requirement already satisfied: numpy in /usr/local/lib/python3.7/dist-packages (from torch-lr-finder) (1.19.5)\n",
            "Requirement already satisfied: pyparsing>=2.0.2 in /usr/local/lib/python3.7/dist-packages (from packaging->torch-lr-finder) (2.4.7)\n",
            "Requirement already satisfied: typing-extensions in /usr/local/lib/python3.7/dist-packages (from torch>=0.4.1->torch-lr-finder) (3.7.4.3)\n",
            "Requirement already satisfied: python-dateutil>=2.1 in /usr/local/lib/python3.7/dist-packages (from matplotlib->torch-lr-finder) (2.8.1)\n",
            "Requirement already satisfied: cycler>=0.10 in /usr/local/lib/python3.7/dist-packages (from matplotlib->torch-lr-finder) (0.10.0)\n",
            "Requirement already satisfied: kiwisolver>=1.0.1 in /usr/local/lib/python3.7/dist-packages (from matplotlib->torch-lr-finder) (1.3.1)\n",
            "Requirement already satisfied: six>=1.5 in /usr/local/lib/python3.7/dist-packages (from python-dateutil>=2.1->matplotlib->torch-lr-finder) (1.15.0)\n"
          ],
          "name": "stdout"
        }
      ]
    },
    {
      "cell_type": "code",
      "metadata": {
        "id": "bKu_gUgKC8cp"
      },
      "source": [
        "def define_model_utilities(model,momentum, loss=\"cross_entropy\", optimizer_func=\"SGD\", start_lr=0.001):\n",
        "    device = 'cuda' if torch.cuda.is_available() else 'cpu'\n",
        "    best_acc = 0  # best test accuracy\n",
        "    classes = ('plane', 'car', 'bird', 'cat', 'deer',\n",
        "           'dog', 'frog', 'horse', 'ship', 'truck')\n",
        "\n",
        "    net = model\n",
        "    net = net.to(device)\n",
        "     \n",
        "    if loss==\"cross_entropy\":\n",
        "        criterion = nn.CrossEntropyLoss()\n",
        "    \n",
        "    if optimizer_func==\"SGD\":\n",
        "        optimizer = optim.SGD(net.parameters(), lr=start_lr,\n",
        "                      momentum=0.9, weight_decay=5e-3)\n",
        "        # optimizer = optim.SGD(net.parameters(), start_lr=0.1, momentum)  # Create optimizer\n",
        "        # optimizer = optim.Adam(model.parameters(), lr=0.1, weight_decay=1e-2)\n",
        "\n",
        "\n",
        "    \n",
        "    # scheduler = torch.optim.lr_scheduler.OneCycleLR(optimizer, 1, total_steps=None, epochs=None, steps_per_epoch=None)\n",
        "    # scheduler = StepLR(optimizer, lr_step_size, lr_gamma)\n",
        "    \n",
        "    # return device, best_acc, classes, net, criterion, optimizer, scheduler\n",
        "    return device, best_acc, classes, net, criterion, optimizer\n"
      ],
      "execution_count": 11,
      "outputs": []
    },
    {
      "cell_type": "code",
      "metadata": {
        "colab": {
          "base_uri": "https://localhost:8080/"
        },
        "id": "UvabqEdCLtON",
        "outputId": "e2272537-37b1-4317-e7f2-68565f00affb"
      },
      "source": [
        "!pip install torch-lr-finder\n",
        "\n",
        "from torch_lr_finder import LRFinder\n"
      ],
      "execution_count": 12,
      "outputs": [
        {
          "output_type": "stream",
          "text": [
            "Requirement already satisfied: torch-lr-finder in /usr/local/lib/python3.7/dist-packages (0.2.1)\n",
            "Requirement already satisfied: matplotlib in /usr/local/lib/python3.7/dist-packages (from torch-lr-finder) (3.1.3)\n",
            "Requirement already satisfied: torch>=0.4.1 in /usr/local/lib/python3.7/dist-packages (from torch-lr-finder) (1.9.0+cu102)\n",
            "Requirement already satisfied: tqdm in /usr/local/lib/python3.7/dist-packages (from torch-lr-finder) (4.41.1)\n",
            "Requirement already satisfied: numpy in /usr/local/lib/python3.7/dist-packages (from torch-lr-finder) (1.19.5)\n",
            "Requirement already satisfied: packaging in /usr/local/lib/python3.7/dist-packages (from torch-lr-finder) (20.9)\n",
            "Requirement already satisfied: cycler>=0.10 in /usr/local/lib/python3.7/dist-packages (from matplotlib->torch-lr-finder) (0.10.0)\n",
            "Requirement already satisfied: python-dateutil>=2.1 in /usr/local/lib/python3.7/dist-packages (from matplotlib->torch-lr-finder) (2.8.1)\n",
            "Requirement already satisfied: kiwisolver>=1.0.1 in /usr/local/lib/python3.7/dist-packages (from matplotlib->torch-lr-finder) (1.3.1)\n",
            "Requirement already satisfied: pyparsing!=2.0.4,!=2.1.2,!=2.1.6,>=2.0.1 in /usr/local/lib/python3.7/dist-packages (from matplotlib->torch-lr-finder) (2.4.7)\n",
            "Requirement already satisfied: typing-extensions in /usr/local/lib/python3.7/dist-packages (from torch>=0.4.1->torch-lr-finder) (3.7.4.3)\n",
            "Requirement already satisfied: six in /usr/local/lib/python3.7/dist-packages (from cycler>=0.10->matplotlib->torch-lr-finder) (1.15.0)\n"
          ],
          "name": "stdout"
        }
      ]
    },
    {
      "cell_type": "code",
      "metadata": {
        "id": "onTrUesoEGfE"
      },
      "source": [
        "# # Get best initial learning rate\n",
        "# initial_lr = lr_finder.best_lr\n",
        "\n",
        "# # Print learning rate and loss\n",
        "# print('Learning Rate:', initial_lr)\n",
        "# print('Loss:', lr_finder.best_loss)\n",
        "\n",
        "# # Plot learning rate vs loss\n",
        "# lr_finder.plot()\n",
        "\n",
        "# # Reset graph\n",
        "# lr_finder.reset()"
      ],
      "execution_count": 13,
      "outputs": []
    },
    {
      "cell_type": "code",
      "metadata": {
        "colab": {
          "base_uri": "https://localhost:8080/"
        },
        "id": "cya7NqN9ZJ_Z",
        "outputId": "675266bf-340a-4f40-fb84-abd7cbb42464"
      },
      "source": [
        "!python -m pip install -U matplotlib"
      ],
      "execution_count": 14,
      "outputs": [
        {
          "output_type": "stream",
          "text": [
            "Collecting matplotlib\n",
            "  Using cached https://files.pythonhosted.org/packages/24/33/5568d443ba438d95d4db635dd69958056f087e57e1026bee56f959d53f9d/matplotlib-3.4.2-cp37-cp37m-manylinux1_x86_64.whl\n",
            "Requirement already satisfied, skipping upgrade: cycler>=0.10 in /usr/local/lib/python3.7/dist-packages (from matplotlib) (0.10.0)\n",
            "Requirement already satisfied, skipping upgrade: kiwisolver>=1.0.1 in /usr/local/lib/python3.7/dist-packages (from matplotlib) (1.3.1)\n",
            "Requirement already satisfied, skipping upgrade: python-dateutil>=2.7 in /usr/local/lib/python3.7/dist-packages (from matplotlib) (2.8.1)\n",
            "Requirement already satisfied, skipping upgrade: pillow>=6.2.0 in /usr/local/lib/python3.7/dist-packages (from matplotlib) (7.1.2)\n",
            "Requirement already satisfied, skipping upgrade: pyparsing>=2.2.1 in /usr/local/lib/python3.7/dist-packages (from matplotlib) (2.4.7)\n",
            "Requirement already satisfied, skipping upgrade: numpy>=1.16 in /usr/local/lib/python3.7/dist-packages (from matplotlib) (1.19.5)\n",
            "Requirement already satisfied, skipping upgrade: six in /usr/local/lib/python3.7/dist-packages (from cycler>=0.10->matplotlib) (1.15.0)\n",
            "Installing collected packages: matplotlib\n",
            "  Found existing installation: matplotlib 3.1.3\n",
            "    Uninstalling matplotlib-3.1.3:\n",
            "      Successfully uninstalled matplotlib-3.1.3\n",
            "Successfully installed matplotlib-3.4.2\n"
          ],
          "name": "stdout"
        }
      ]
    },
    {
      "cell_type": "code",
      "metadata": {
        "id": "G_ZTqalO_U39"
      },
      "source": [
        "import torch\n",
        "import torch.nn as nn\n",
        "import torch.optim as optim\n",
        "import torch.nn.functional as F\n",
        "import torch.backends.cudnn as cudnn\n",
        "\n",
        "import numpy as np\n",
        "import torchvision\n",
        "import torchvision.transforms as transforms\n",
        "from torch.utils.data import DataLoader, Dataset\n",
        "import matplotlib.pyplot as plt\n",
        "\n",
        "import albumentations as A\n",
        "\n",
        "\n",
        "class CIFAR_10_Dataset(torch.utils.data.Dataset):\n",
        "  def __init__(self,  dataset, transformer=None):\n",
        "        self.dataset = dataset\n",
        "        self.transforms = transformer\n",
        "  def __len__(self):\n",
        "        return len(self.dataset)\n",
        "  def __getitem__(self, idx):\n",
        "        if torch.is_tensor(idx):\n",
        "            idx = idx.tolist()\n",
        "        img, target = self.dataset[idx]\n",
        "        img = img.cpu().detach().numpy()\n",
        "        img = np.asarray(img).reshape((32,32,3))\n",
        "        if self.transforms is not None:\n",
        "            image = self.transforms(image=img)\n",
        "        img = torch.from_numpy(img.reshape(3,32,32))\n",
        "        return img, target\n",
        "\n",
        "\n",
        "def train_transform(train):\n",
        "  albumentation_train_list = []\n",
        "  train_list = []\n",
        "  for i in train:\n",
        "    if i == \"totensor\":\n",
        "      train_list.append(transforms.ToTensor())\n",
        "    if i == \"normalize_normal\":\n",
        "      train_list.append(transforms.Normalize((0.5,0.5,0.5), (0.5,0.5,0.5)))\n",
        "    if i == \"normalize_mean\":\n",
        "      train_list.append(transforms.Normalize((0.4914, 0.4822, 0.4465), (0.2023, 0.1994, 0.2010)))\n",
        "    if i == \"randomcrop\":\n",
        "      train_list.append(transforms.RandomCrop(32, padding=4))\n",
        "    if i == \"horizontal_flip\" or i == \"flipLR\":\n",
        "      train_list.append(transforms.RandomHorizontalFlip())\n",
        "    if i == \"random_rotate\":\n",
        "      train_list.append(transforms.RandomRotation((-5.0, 5.0), fill=(0,0,0)))\n",
        "    if i == \"cutout\":\n",
        "      albumentation_train_list.append(A.CoarseDropout(p=0.5, max_holes = 1, max_height=8, max_width=8, min_holes = 1, min_height=8, min_width=8, fill_value=(0.4914, 0.4822, 0.4465), mask_fill_value = None))\n",
        "    if i == \"shift_scale_rotate\":\n",
        "       albumentation_train_list.append(A.ShiftScaleRotate(shift_limit=0.05, scale_limit=0.05, rotate_limit=15, p=0.5))\n",
        "    if i == \"grayscale\":\n",
        "       albumentation_train_list.append(A.ToGray(p=0.5))\n",
        "  \n",
        "  return transforms.Compose(train_list), A.Compose(albumentation_train_list)\n",
        "\n",
        "\n",
        "\n",
        "def load_dataset(tensor_train, numpy_train):\n",
        "  train_dataset = CIFAR_10_Dataset(torchvision.datasets.CIFAR10(root='./data', train=True, download=True,\n",
        "                                  transform=tensor_train), numpy_train)\n",
        "\n",
        "  testset = torchvision.datasets.CIFAR10(root='./data', train=False,\n",
        "                                       download=True, transform=transforms.Compose([transforms.ToTensor(),\n",
        "                                                                                    transforms.Normalize((0.4914, 0.4822, 0.4465), (0.2023, 0.1994, 0.2010))\n",
        "                                                                                   ]))\n",
        "  return train_dataset, testset\n",
        "\n",
        "\n",
        "def plot_graph(tr_l, tr_a, te_l, te_a):\n",
        "  fig, axs = plt.subplots(2,2,figsize=(15,10))\n",
        "  axs[0, 0].plot(tr_l)\n",
        "  axs[0, 0].set_title(\"Training Loss\")\n",
        "  axs[1, 0].plot(tr_a)\n",
        "  axs[1, 0].set_title(\"Training Accuracy\")\n",
        "  axs[0, 1].plot(te_l)\n",
        "  axs[0, 1].set_title(\"Test Loss\")\n",
        "  axs[1, 1].plot(te_a)\n",
        "  axs[1, 1].set_title(\"Test Accuracy\")\n",
        "\n",
        "\n",
        "def denormalize(tensor, mean=[0.4914, 0.4822, 0.4465], std=[0.2023, 0.1994, 0.2010]):\n",
        "    single_img = False\n",
        "    if tensor.ndimension() == 3:\n",
        "      single_img = True\n",
        "      tensor = tensor[None,:,:,:]\n",
        "\n",
        "    if not tensor.ndimension() == 4:\n",
        "        raise TypeError('tensor should be 4D')\n",
        "\n",
        "    mean = torch.FloatTensor(mean).view(1, 3, 1, 1).expand_as(tensor).to(tensor.device)\n",
        "    std = torch.FloatTensor(std).view(1, 3, 1, 1).expand_as(tensor).to(tensor.device)\n",
        "    ret = tensor.mul(std).add(mean)\n",
        "    return ret[0] if single_img else ret\n",
        "\n",
        "  \n",
        "def identify_images(net, criterion, device, testloader, n):\n",
        "    net.eval()\n",
        "    correct_images = []\n",
        "    incorrect_images = []\n",
        "    with torch.no_grad():\n",
        "        for batch_idx, (inputs, targets) in enumerate(testloader):\n",
        "            inputs, targets = inputs.to(device), targets.to(device)\n",
        "            outputs = net(inputs)           \n",
        "            predicted = outputs.argmax(dim=1, keepdim=True)\n",
        "            is_correct = predicted.eq(targets.view_as(predicted))\n",
        "            \n",
        "            misclassified_inds = (is_correct==0).nonzero()[:,0]\n",
        "            for mis_ind in misclassified_inds:\n",
        "              if len(incorrect_images) == n:\n",
        "                break\n",
        "              incorrect_images.append({\n",
        "                  \"target\": targets[mis_ind].cpu().numpy(),\n",
        "                  \"pred\": predicted[mis_ind][0].cpu().numpy(),\n",
        "                  \"img\": inputs[mis_ind]\n",
        "              })\n",
        "\n",
        "            correct_inds = (is_correct==1).nonzero()[:,0]\n",
        "            for ind in correct_inds:\n",
        "              if len(correct_images) == n:\n",
        "                break\n",
        "              correct_images.append({\n",
        "                  \"target\": targets[ind].cpu().numpy(),\n",
        "                  \"pred\": predicted[ind][0].cpu().numpy(),\n",
        "                  \"img\": inputs[ind]\n",
        "              })\n",
        "    return correct_images, incorrect_images\n",
        "  \n",
        "  \n",
        "def plot_images(img_data, classes):\n",
        "    figure = plt.figure(figsize=(10, 10))\n",
        "\n",
        "    num_of_images = len(img_data)\n",
        "    for index in range(1, num_of_images + 1):\n",
        "        img = denormalize(img_data[index-1][\"img\"])  # unnormalize\n",
        "        plt.subplot(5, 5, index)\n",
        "        plt.axis('off')\n",
        "        img = img.cpu().numpy()\n",
        "        maxValue = np.amax(img)\n",
        "        minValue = np.amin(img)\n",
        "        img = np.clip(img, 0, 1)\n",
        "        img = img/np.amax(img)\n",
        "        img = np.clip(img, 0, 1)\n",
        "        plt.imshow(np.transpose(img, (1, 2, 0)))\n",
        "        plt.title(\"Predicted: %s\\nActual: %s\" % (classes[img_data[index-1][\"pred\"]], classes[img_data[index-1][\"target\"]]))\n",
        "\n",
        "    plt.tight_layout()\n"
      ],
      "execution_count": 15,
      "outputs": []
    },
    {
      "cell_type": "code",
      "metadata": {
        "id": "8p0P-WsoAF4w"
      },
      "source": [
        "# !sudo pip3 install torchvision --upgrade"
      ],
      "execution_count": 16,
      "outputs": []
    },
    {
      "cell_type": "code",
      "metadata": {
        "id": "nlqnVd16AQqE"
      },
      "source": [
        "# !conda uninstall torchvision\n",
        "# !pip install torchvision"
      ],
      "execution_count": 17,
      "outputs": []
    },
    {
      "cell_type": "code",
      "metadata": {
        "id": "UMay8B_e5wxA"
      },
      "source": [
        "tensor_transforms, numpy_transforms = train_transform([\"randomcrop\", \"horizontal_flip\", \"cutout\"\n",
        ", \"totensor\"\n",
        ",\"normalize_mean\"\n",
        "])"
      ],
      "execution_count": 16,
      "outputs": []
    },
    {
      "cell_type": "code",
      "metadata": {
        "colab": {
          "base_uri": "https://localhost:8080/"
        },
        "id": "Rdy1xa84Uz5d",
        "outputId": "dd729bdc-03e6-4284-c8ab-020bd56d4e2e"
      },
      "source": [
        "train_set, test_set = load_dataset(tensor_transforms, numpy_transforms)\n"
      ],
      "execution_count": 17,
      "outputs": [
        {
          "output_type": "stream",
          "text": [
            "Files already downloaded and verified\n",
            "Files already downloaded and verified\n"
          ],
          "name": "stdout"
        }
      ]
    },
    {
      "cell_type": "code",
      "metadata": {
        "id": "LAS_r2hiUwCM"
      },
      "source": [
        "train_loader, test_loader = dataloaders(train_set, test_set)"
      ],
      "execution_count": 18,
      "outputs": []
    },
    {
      "cell_type": "code",
      "metadata": {
        "id": "QAVd3Cv6Xoqj"
      },
      "source": [
        "model = CustomResNet()\n",
        "device, best_acc, classes, net, criterion, optimizer = define_model_utilities(model,\n",
        "                                                                              momentum=0.9,\n",
        "                                                                              loss=\"cross_entropy\", \n",
        "                                                                              optimizer_func=\"SGD\", \n",
        "                                                                              start_lr=0.1,\n",
        "                                                                              )"
      ],
      "execution_count": 19,
      "outputs": []
    },
    {
      "cell_type": "code",
      "metadata": {
        "colab": {
          "base_uri": "https://localhost:8080/",
          "height": 346
        },
        "id": "oMzkk3V2l5A3",
        "outputId": "d5c7a072-1693-471f-c3ab-7d5fad5ec39b"
      },
      "source": [
        "# !python -m pip uninstall matplotlib\n",
        "!pip install matplotlib==3.1.3"
      ],
      "execution_count": 20,
      "outputs": [
        {
          "output_type": "stream",
          "text": [
            "Collecting matplotlib==3.1.3\n",
            "  Using cached https://files.pythonhosted.org/packages/4c/9b/35ab3469fd1509f7636a344940569ebfd33239673fd2318e80b4700a257c/matplotlib-3.1.3-cp37-cp37m-manylinux1_x86_64.whl\n",
            "Requirement already satisfied: numpy>=1.11 in /usr/local/lib/python3.7/dist-packages (from matplotlib==3.1.3) (1.19.5)\n",
            "Requirement already satisfied: kiwisolver>=1.0.1 in /usr/local/lib/python3.7/dist-packages (from matplotlib==3.1.3) (1.3.1)\n",
            "Requirement already satisfied: pyparsing!=2.0.4,!=2.1.2,!=2.1.6,>=2.0.1 in /usr/local/lib/python3.7/dist-packages (from matplotlib==3.1.3) (2.4.7)\n",
            "Requirement already satisfied: cycler>=0.10 in /usr/local/lib/python3.7/dist-packages (from matplotlib==3.1.3) (0.10.0)\n",
            "Requirement already satisfied: python-dateutil>=2.1 in /usr/local/lib/python3.7/dist-packages (from matplotlib==3.1.3) (2.8.1)\n",
            "Requirement already satisfied: six in /usr/local/lib/python3.7/dist-packages (from cycler>=0.10->matplotlib==3.1.3) (1.15.0)\n",
            "Installing collected packages: matplotlib\n",
            "  Found existing installation: matplotlib 3.4.2\n",
            "    Uninstalling matplotlib-3.4.2:\n",
            "      Successfully uninstalled matplotlib-3.4.2\n",
            "Successfully installed matplotlib-3.1.3\n"
          ],
          "name": "stdout"
        },
        {
          "output_type": "display_data",
          "data": {
            "application/vnd.colab-display-data+json": {
              "pip_warning": {
                "packages": [
                  "matplotlib",
                  "mpl_toolkits"
                ]
              }
            }
          },
          "metadata": {
            "tags": []
          }
        }
      ]
    },
    {
      "cell_type": "code",
      "metadata": {
        "colab": {
          "base_uri": "https://localhost:8080/",
          "height": 438,
          "referenced_widgets": [
            "ac4d0d7ec90d42d9917c19793e09fe98",
            "4a25d3bf9ee24c90a8604466505bd321",
            "01a5ff36462b46e9ac0239e2ab97fe5d",
            "3ead9ff0d4174b42b25f32c00c448fbb",
            "4ad67dfc7c2d42dbbc1194866e32a447",
            "fa272598e8a64c36a0eb32edecf8535e",
            "ff655fed428a4eaebf243c40b929c8d0",
            "0b43395330e5405296506022735e54ec"
          ]
        },
        "id": "nzPix_yFMRIK",
        "outputId": "88ee98de-29cf-4ad1-af20-3f826cc13c50"
      },
      "source": [
        "# # Find learning rate\n",
        "\n",
        "from torch_lr_finder import LRFinder\n",
        "\n",
        "lr_finder = LRFinder(net, optimizer, criterion, device=\"cuda\")\n",
        "lr_finder.range_test(train_loader, val_loader=test_loader,end_lr=1, num_iter=100, step_mode=\"linear\")\n",
        "lr_finder.plot() # to inspect the loss-learning rate graph\n",
        "lr_finder.reset() # to reset the model and optimizer to their initial state\n"
      ],
      "execution_count": 21,
      "outputs": [
        {
          "output_type": "display_data",
          "data": {
            "application/vnd.jupyter.widget-view+json": {
              "model_id": "ac4d0d7ec90d42d9917c19793e09fe98",
              "version_minor": 0,
              "version_major": 2
            },
            "text/plain": [
              "HBox(children=(FloatProgress(value=0.0), HTML(value='')))"
            ]
          },
          "metadata": {
            "tags": []
          }
        },
        {
          "output_type": "stream",
          "text": [
            "/usr/local/lib/python3.7/dist-packages/torch/nn/functional.py:718: UserWarning: Named tensors and all their associated APIs are an experimental feature and subject to change. Please do not use them for anything important until they are released as stable. (Triggered internally at  /pytorch/c10/core/TensorImpl.h:1156.)\n",
            "  return torch.max_pool2d(input, kernel_size, stride, padding, dilation, ceil_mode)\n"
          ],
          "name": "stderr"
        },
        {
          "output_type": "stream",
          "text": [
            "\n",
            "Learning rate search finished. See the graph with {finder_name}.plot()\n",
            "LR suggestion: steepest gradient\n",
            "Suggested LR: 2.45E-01\n"
          ],
          "name": "stdout"
        },
        {
          "output_type": "display_data",
          "data": {
            "image/png": "[encoded data removed]",
            "text/plain": [
              "<Figure size 432x288 with 1 Axes>"
            ]
          },
          "metadata": {
            "tags": [],
            "needs_background": "light"
          }
        }
      ]
    },
    {
      "cell_type": "code",
      "metadata": {
        "id": "kQrgRFlnElA2"
      },
      "source": [
        "scheduler = torch.optim.lr_scheduler.OneCycleLR(optimizer, max_lr=0.245, pct_start=0.208, steps_per_epoch=len(train_loader),\n",
        "                                                epochs=24,\n",
        "                                                base_momentum=0.1,\n",
        "                                                max_momentum = 0.9\n",
        "                                                )"
      ],
      "execution_count": 22,
      "outputs": []
    },
    {
      "cell_type": "code",
      "metadata": {
        "colab": {
          "base_uri": "https://localhost:8080/"
        },
        "id": "KoLb736xloga",
        "outputId": "1ceced9a-d9d2-4035-d694-460878357b59"
      },
      "source": [
        "# train(10, net, criterion, optimizer, device, train_loader, train_losses, train_acc)\n",
        "\n",
        "train_loss = []\n",
        "train_acc = []\n",
        "test_loss = []\n",
        "test_acc = []\n",
        "\n",
        "for epoch in range(24):\n",
        "    train_loss, train_acc = train(epoch+1, net, criterion, optimizer, device, train_loader, train_loss, train_acc)\n",
        "    best_acc, test_loss, test_acc = test(epoch+1, net, criterion, device, test_loader, best_acc, test_loss, test_acc)\n",
        "    scheduler.step(test_loss[-1])\n",
        "print(\"Best Acc is : \", best_acc)"
      ],
      "execution_count": 23,
      "outputs": [
        {
          "output_type": "stream",
          "text": [
            "\n",
            "Epoch: 1\n",
            "Train Loss: 2.055 | Train Acc: 40.458% (20229/50000)\n",
            "Test Loss: 1.972 | Test Acc: 48.910% (4891/10000)\n",
            "\n",
            "Epoch: 2\n"
          ],
          "name": "stdout"
        },
        {
          "output_type": "stream",
          "text": [
            "/usr/local/lib/python3.7/dist-packages/torch/optim/lr_scheduler.py:154: UserWarning: The epoch parameter in `scheduler.step()` was not necessary and is being deprecated where possible. Please use `scheduler.step()` to step the scheduler. During the deprecation, if epoch is different from None, the closed form is used instead of the new chainable form, where available. Please open an issue if you are unable to replicate your use case: https://github.com/pytorch/pytorch/issues/new/choose.\n",
            "  warnings.warn(EPOCH_DEPRECATION_WARNING, UserWarning)\n"
          ],
          "name": "stderr"
        },
        {
          "output_type": "stream",
          "text": [
            "Train Loss: 1.874 | Train Acc: 59.386% (29693/50000)\n",
            "Test Loss: 1.834 | Test Acc: 63.080% (6308/10000)\n",
            "\n",
            "Epoch: 3\n",
            "Train Loss: 1.782 | Train Acc: 68.952% (34476/50000)\n",
            "Test Loss: 1.792 | Test Acc: 67.550% (6755/10000)\n",
            "\n",
            "Epoch: 4\n",
            "Train Loss: 1.724 | Train Acc: 74.868% (37434/50000)\n",
            "Test Loss: 1.785 | Test Acc: 68.840% (6884/10000)\n",
            "\n",
            "Epoch: 5\n",
            "Train Loss: 1.691 | Train Acc: 78.190% (39095/50000)\n",
            "Test Loss: 1.733 | Test Acc: 73.580% (7358/10000)\n",
            "\n",
            "Epoch: 6\n",
            "Train Loss: 1.668 | Train Acc: 80.484% (40242/50000)\n",
            "Test Loss: 1.725 | Test Acc: 74.680% (7468/10000)\n",
            "\n",
            "Epoch: 7\n",
            "Train Loss: 1.647 | Train Acc: 82.588% (41294/50000)\n",
            "Test Loss: 1.680 | Test Acc: 79.760% (7976/10000)\n",
            "\n",
            "Epoch: 8\n",
            "Train Loss: 1.635 | Train Acc: 83.902% (41951/50000)\n",
            "Test Loss: 1.697 | Test Acc: 78.130% (7813/10000)\n",
            "\n",
            "Epoch: 9\n",
            "Train Loss: 1.625 | Train Acc: 85.090% (42545/50000)\n",
            "Test Loss: 1.696 | Test Acc: 77.770% (7777/10000)\n",
            "\n",
            "Epoch: 10\n",
            "Train Loss: 1.614 | Train Acc: 86.366% (43183/50000)\n",
            "Test Loss: 1.658 | Test Acc: 82.760% (8276/10000)\n",
            "\n",
            "Epoch: 11\n",
            "Train Loss: 1.608 | Train Acc: 87.046% (43523/50000)\n",
            "Test Loss: 1.650 | Test Acc: 82.930% (8293/10000)\n",
            "\n",
            "Epoch: 12\n",
            "Train Loss: 1.601 | Train Acc: 87.800% (43900/50000)\n",
            "Test Loss: 1.647 | Test Acc: 83.430% (8343/10000)\n",
            "\n",
            "Epoch: 13\n",
            "Train Loss: 1.596 | Train Acc: 88.398% (44199/50000)\n",
            "Test Loss: 1.680 | Test Acc: 80.110% (8011/10000)\n",
            "\n",
            "Epoch: 14\n",
            "Train Loss: 1.592 | Train Acc: 88.856% (44428/50000)\n",
            "Test Loss: 1.645 | Test Acc: 84.630% (8463/10000)\n",
            "\n",
            "Epoch: 15\n",
            "Train Loss: 1.590 | Train Acc: 89.214% (44607/50000)\n",
            "Test Loss: 1.637 | Test Acc: 85.660% (8566/10000)\n",
            "\n",
            "Epoch: 16\n",
            "Train Loss: 1.587 | Train Acc: 89.726% (44863/50000)\n",
            "Test Loss: 1.671 | Test Acc: 82.440% (8244/10000)\n",
            "\n",
            "Epoch: 17\n",
            "Train Loss: 1.586 | Train Acc: 89.780% (44890/50000)\n",
            "Test Loss: 1.674 | Test Acc: 82.220% (8222/10000)\n",
            "\n",
            "Epoch: 18\n",
            "Train Loss: 1.583 | Train Acc: 90.138% (45069/50000)\n",
            "Test Loss: 1.701 | Test Acc: 80.910% (8091/10000)\n",
            "\n",
            "Epoch: 19\n",
            "Train Loss: 1.580 | Train Acc: 90.428% (45214/50000)\n",
            "Test Loss: 1.719 | Test Acc: 79.900% (7990/10000)\n",
            "\n",
            "Epoch: 20\n",
            "Train Loss: 1.582 | Train Acc: 90.310% (45155/50000)\n",
            "Test Loss: 1.723 | Test Acc: 78.990% (7899/10000)\n",
            "\n",
            "Epoch: 21\n",
            "Train Loss: 1.581 | Train Acc: 90.462% (45231/50000)\n",
            "Test Loss: 1.667 | Test Acc: 86.430% (8643/10000)\n",
            "\n",
            "Epoch: 22\n",
            "Train Loss: 1.582 | Train Acc: 90.334% (45167/50000)\n",
            "Test Loss: 1.768 | Test Acc: 78.460% (7846/10000)\n",
            "\n",
            "Epoch: 23\n",
            "Train Loss: 1.584 | Train Acc: 90.236% (45118/50000)\n",
            "Test Loss: 1.791 | Test Acc: 77.320% (7732/10000)\n",
            "\n",
            "Epoch: 24\n",
            "Train Loss: 1.582 | Train Acc: 90.230% (45115/50000)\n",
            "Test Loss: 1.773 | Test Acc: 78.470% (7847/10000)\n",
            "Best Acc is :  86.43\n"
          ],
          "name": "stdout"
        }
      ]
    },
    {
      "cell_type": "code",
      "metadata": {
        "id": "p76FnCYHflEP"
      },
      "source": [
        "# train(10, net, criterion, optimizer, device, train_loader, train_losses, train_acc)\n",
        "\n",
        "train_loss = []\n",
        "train_acc = []\n",
        "test_loss = []\n",
        "test_acc = []\n",
        "\n",
        "for epoch in range(24):\n",
        "    train_loss, train_acc = train(epoch+1, net, criterion, optimizer, device, train_loader, train_loss, train_acc)\n",
        "    best_acc, test_loss, test_acc = test(epoch+1, net, criterion, device, test_loader, best_acc, test_loss, test_acc)\n",
        "    scheduler.step(test_loss[-1])\n",
        "print(\"Best Acc is : \", best_acc)"
      ],
      "execution_count": null,
      "outputs": []
    },
    {
      "cell_type": "code",
      "metadata": {
        "colab": {
          "base_uri": "https://localhost:8080/"
        },
        "id": "f8SqexALpv8t",
        "outputId": "2ebe2803-7ac2-4993-8ebe-9d4029f8fc87"
      },
      "source": [
        "# train(10, net, criterion, optimizer, device, train_loader, train_losses, train_acc)\n",
        "\n",
        "train_loss = []\n",
        "train_acc = []\n",
        "test_loss = []\n",
        "test_acc = []\n",
        "\n",
        "for epoch in range(24):\n",
        "    train_loss, train_acc = train(epoch+1, net, criterion, optimizer, device, train_loader, train_loss, train_acc)\n",
        "    best_acc, test_loss, test_acc = test(epoch+1, net, criterion, device, test_loader, best_acc, test_loss, test_acc)\n",
        "    scheduler.step(test_loss[-1])\n",
        "print(\"Best Acc is : \", best_acc)"
      ],
      "execution_count": null,
      "outputs": [
        {
          "output_type": "stream",
          "text": [
            "\n",
            "Epoch: 1\n",
            "Train Loss: 1.498 | Train Acc: 96.778% (48389/50000)\n",
            "Test Loss: 1.767 | Test Acc: 70.040% (7004/10000)\n",
            "\n",
            "Epoch: 2\n"
          ],
          "name": "stdout"
        },
        {
          "output_type": "stream",
          "text": [
            "/usr/local/lib/python3.7/dist-packages/torch/optim/lr_scheduler.py:154: UserWarning: The epoch parameter in `scheduler.step()` was not necessary and is being deprecated where possible. Please use `scheduler.step()` to step the scheduler. During the deprecation, if epoch is different from None, the closed form is used instead of the new chainable form, where available. Please open an issue if you are unable to replicate your use case: https://github.com/pytorch/pytorch/issues/new/choose.\n",
            "  warnings.warn(EPOCH_DEPRECATION_WARNING, UserWarning)\n"
          ],
          "name": "stderr"
        }
      ]
    },
    {
      "cell_type": "code",
      "metadata": {
        "id": "LF__Iai-axjg"
      },
      "source": [
        "# # Get best initial learning rate\n",
        "# initial_lr = lr_finder.best_lr\n",
        "\n",
        "# # Print learning rate and loss\n",
        "# print('Learning Rate:', initial_lr)\n",
        "# print('Loss:', lr_finder.best_loss)\n",
        "\n",
        "# # Plot learning rate vs loss\n",
        "# lr_finder.plot()\n",
        "\n",
        "# # Reset graph\n",
        "# lr_finder.reset()"
      ],
      "execution_count": null,
      "outputs": []
    },
    {
      "cell_type": "code",
      "metadata": {
        "id": "lDv2yDkC9fUg"
      },
      "source": [
        "# def find_lr(init_value = 1e-8, final_value=10., beta = 0.98):\n",
        "#     num = len(train_loader)-1\n",
        "#     mult = (final_value / init_value) ** (1/num)\n",
        "#     lr = init_value\n",
        "#     optimizer.param_groups[0]['lr'] = lr\n",
        "#     avg_loss = 0.\n",
        "#     best_loss = 0.\n",
        "#     batch_num = 0\n",
        "#     losses = []\n",
        "#     log_lrs = []\n",
        "#     for data in train_loader:\n",
        "#         batch_num += 1\n",
        "#         #As before, get the loss for this mini-batch of inputs/outputs\n",
        "#         inputs,labels = data\n",
        "#         inputs, labels = inputs, labels\n",
        "#         optimizer.zero_grad()\n",
        "#         outputs = net(inputs)\n",
        "#         loss = criterion(outputs, labels)\n",
        "#         #Compute the smoothed loss\n",
        "#         avg_loss = beta * avg_loss + (1-beta) *loss.data[0]\n",
        "#         smoothed_loss = avg_loss / (1 - beta**batch_num)\n",
        "#         #Stop if the loss is exploding\n",
        "#         if batch_num > 1 and smoothed_loss > 4 * best_loss:\n",
        "#             return log_lrs, losses\n",
        "#         #Record the best loss\n",
        "#         if smoothed_loss < best_loss or batch_num==1:\n",
        "#             best_loss = smoothed_loss\n",
        "#         #Store the values\n",
        "#         losses.append(smoothed_loss)\n",
        "#         log_lrs.append(math.log10(lr))\n",
        "#         #Do the SGD step\n",
        "#         loss.backward()\n",
        "#         optimizer.step()\n",
        "#         #Update the lr for the next step\n",
        "#         lr *= mult\n",
        "#         optimizer.param_groups[0]['lr'] = lr\n",
        "#     return log_lrs, losses"
      ],
      "execution_count": null,
      "outputs": []
    },
    {
      "cell_type": "code",
      "metadata": {
        "id": "g9CfUVS-Bntv"
      },
      "source": [
        "# find_lr()"
      ],
      "execution_count": null,
      "outputs": []
    },
    {
      "cell_type": "code",
      "metadata": {
        "id": "nZbcwJp4BpnE"
      },
      "source": [
        ""
      ],
      "execution_count": null,
      "outputs": []
    }
  ]
}